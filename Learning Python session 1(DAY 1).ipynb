{
 "cells": [
  {
   "cell_type": "raw",
   "metadata": {},
   "source": [
    "SHORTCUT\n",
    "a- to create cell above\n",
    "b- to create cell below\n",
    "c-to copy the cell\n",
    "v-to paste the cell\n",
    "d- to delete\n",
    "adding two double dashes ->__text__ will make it bold\n",
    "adding one dash on either side of text will make it italic _bleh_\n",
    "shift+m - merge the cell\n",
    "\n",
    "if you want to interrupt Mr.KERNAL- press the I key :P\n",
    "0 to restart the Mr.Kernal\n",
    "Y change the cell to code Kernal\n",
    "M change the cell to markdown Kernal"
   ]
  },
  {
   "cell_type": "markdown",
   "metadata": {},
   "source": [
    "# Integers\n",
    "_Integer literals are created by any number without a decimal or complex component._"
   ]
  },
  {
   "cell_type": "markdown",
   "metadata": {},
   "source": [
    "if you want to interrupt Mr.KERNAL- press the I key :P\n",
    "0 to restart the Mr.Kernal\n",
    "Y change the cell to code Kernal\n",
    "M change the cell to markdown Kernal\n",
    "\n",
    "# Integers\n",
    "_Integer literals are created by any number without a decimal or complex component._"
   ]
  },
  {
   "cell_type": "markdown",
   "metadata": {},
   "source": [
    "# Integers\n",
    "_Integer literals are created by any number without a decimal or complex component._"
   ]
  },
  {
   "cell_type": "code",
   "execution_count": null,
   "metadata": {},
   "outputs": [],
   "source": [
    "a=-1\n",
    "type(a)"
   ]
  },
  {
   "cell_type": "markdown",
   "metadata": {},
   "source": [
    "# FLOAT\n",
    "<font color=teal>_Float literals can be created by adding a decimal component to a number._</font>"
   ]
  },
  {
   "cell_type": "code",
   "execution_count": null,
   "metadata": {},
   "outputs": [],
   "source": [
    "floatOne = 1.90\n",
    "type(floatOne)"
   ]
  },
  {
   "cell_type": "markdown",
   "metadata": {},
   "source": [
    "# BOOLEAN \n",
    "<font color=blue>\n",
    "\n",
    "_Boolean can be defined by typing True/False without quotes_ </font>"
   ]
  },
  {
   "cell_type": "code",
   "execution_count": null,
   "metadata": {},
   "outputs": [],
   "source": [
    "b1=True\n",
    "type(b1)"
   ]
  },
  {
   "cell_type": "code",
   "execution_count": null,
   "metadata": {},
   "outputs": [],
   "source": [
    "b2=False\n",
    "type(b2)"
   ]
  },
  {
   "cell_type": "markdown",
   "metadata": {},
   "source": [
    "# String\n",
    "<font color=green>_String literals can be defined with any of single quotes ('), double quotes (\") or triple quotes (''' or \"\"\"). All give the same result with two important differences.If you quote with single quotes, you do not have to escape double quotes and vice-versa. If you quote with triple quotes, your string can span multiple lines._</font>"
   ]
  },
  {
   "cell_type": "code",
   "execution_count": null,
   "metadata": {},
   "outputs": [],
   "source": [
    "str1=\"cat\"\n",
    "type(str1)\n",
    "print(str1)"
   ]
  },
  {
   "cell_type": "markdown",
   "metadata": {},
   "source": [
    "# Complex\n",
    "<font color=red>_Complex literals can be created by using the notation x + yj where x is the real component and y is the imaginary component._</font>\n",
    "__\"j\" specifies the imaginary component__"
   ]
  },
  {
   "cell_type": "code",
   "execution_count": null,
   "metadata": {},
   "outputs": [],
   "source": [
    "complexOne=1-2j\n",
    "type(complexOne)"
   ]
  },
  {
   "cell_type": "code",
   "execution_count": null,
   "metadata": {},
   "outputs": [],
   "source": [
    "complexTwo=-1.0+2.3j\n",
    "type(complexTwo)"
   ]
  },
  {
   "cell_type": "code",
   "execution_count": null,
   "metadata": {},
   "outputs": [],
   "source": [
    "complexThree=-1-2j\n",
    "type(complexThree)"
   ]
  },
  {
   "cell_type": "markdown",
   "metadata": {},
   "source": [
    "# Variable\n",
    "<font color= purple>_A variable in Python is defined through assignment. There is no concept of declaring a variable outside of that assignment._</font>"
   ]
  },
  {
   "cell_type": "code",
   "execution_count": null,
   "metadata": {},
   "outputs": [],
   "source": [
    "a=100\n",
    "print(a)"
   ]
  },
  {
   "cell_type": "markdown",
   "metadata": {},
   "source": [
    "#### _Also you can print a variable by just writing the variable name_"
   ]
  },
  {
   "cell_type": "markdown",
   "metadata": {},
   "source": []
  },
  {
   "cell_type": "code",
   "execution_count": null,
   "metadata": {},
   "outputs": [],
   "source": [
    "#if you want to print two variables only one variable will be displayed at a point\n",
    "c=10\n",
    "d=130\n",
    "c\n",
    "d"
   ]
  },
  {
   "cell_type": "markdown",
   "metadata": {},
   "source": [
    "# Dynamic Typing\n",
    "In Python, while the value that a variable points to has a type, _the variable itself has no strict type in its definition._ You can __re-use the same variable to point to an object of a different type.__ It may be helpful to think of variables as \"labels\" associated with objects."
   ]
  },
  {
   "cell_type": "code",
   "execution_count": null,
   "metadata": {},
   "outputs": [],
   "source": [
    "#for instance\n",
    "ten=10\n",
    "#ten <- to print ten variable\n",
    "type(ten)\n",
    "#ten='changing it into string'\n",
    "#ten <- to print ten variable\n",
    "type(ten)\n",
    "#as of now you can see the final output as str. now make this as a comment"
   ]
  },
  {
   "cell_type": "markdown",
   "metadata": {},
   "source": [
    "# Strong Typing¶\n",
    "While Python allows you to be very flexible with your types, you must still be aware of what those types are. Certain operations will require certain types as arguments."
   ]
  },
  {
   "cell_type": "code",
   "execution_count": null,
   "metadata": {},
   "outputs": [],
   "source": [
    "#let's forsay in javascript how we could concat a string and a number easily the same thing try it here\n",
    "#'name'+1\n",
    "#the output differs from programming language to language\n",
    "#if you want to concat a string and number convert the number to string- conversion is required\n",
    "#how to convert into the string? write the datatype(value) -> it will convert to that particular datatype\n",
    "#for example\n",
    "#float(1)\n",
    "#convert number to string\n",
    "'name'+str(2334.40)"
   ]
  },
  {
   "cell_type": "markdown",
   "metadata": {},
   "source": [
    "# Expression\n",
    "## Boolean \n"
   ]
  },
  {
   "cell_type": "code",
   "execution_count": null,
   "metadata": {},
   "outputs": [],
   "source": [
    "#boolean expression are created with the keywords and, or, not and is. For example:\n",
    "True and True"
   ]
  },
  {
   "cell_type": "code",
   "execution_count": null,
   "metadata": {},
   "outputs": [],
   "source": [
    "False and True"
   ]
  },
  {
   "cell_type": "code",
   "execution_count": null,
   "metadata": {
    "scrolled": true
   },
   "outputs": [],
   "source": [
    "False and False"
   ]
  },
  {
   "cell_type": "code",
   "execution_count": null,
   "metadata": {},
   "outputs": [],
   "source": [
    "a=10\n",
    "a and a"
   ]
  },
  {
   "cell_type": "code",
   "execution_count": null,
   "metadata": {},
   "outputs": [],
   "source": [
    "not True"
   ]
  },
  {
   "cell_type": "code",
   "execution_count": null,
   "metadata": {},
   "outputs": [],
   "source": [
    "not False"
   ]
  },
  {
   "cell_type": "code",
   "execution_count": null,
   "metadata": {},
   "outputs": [],
   "source": [
    "b=10\n",
    "a=100\n",
    "a is b"
   ]
  },
  {
   "cell_type": "code",
   "execution_count": null,
   "metadata": {},
   "outputs": [],
   "source": [
    "'a' is 'b'"
   ]
  },
  {
   "cell_type": "code",
   "execution_count": null,
   "metadata": {},
   "outputs": [],
   "source": [
    "'av ' is 'av'"
   ]
  },
  {
   "cell_type": "code",
   "execution_count": null,
   "metadata": {},
   "outputs": [],
   "source": [
    "a=100\n",
    "b=100\n",
    "a is b"
   ]
  },
  {
   "cell_type": "markdown",
   "metadata": {},
   "source": [
    "# Branching (if / elif / else)¶\n",
    "Python provides the if statement to allow branching based on conditions. \n",
    "Multiple elif checks can also be performed followed by an optional else clause. The if statement can be used with any evaluation of truthiness."
   ]
  },
  {
   "cell_type": "code",
   "execution_count": null,
   "metadata": {},
   "outputs": [],
   "source": [
    "#check the maximum number printing the same\n",
    "a=100\n",
    "b=90\n",
    "c=12\n",
    "if a>b and a>c:\n",
    "    print(a)\n",
    "elif b>a and b>c:\n",
    "    print(b)\n",
    "else:\n",
    "    print(c)"
   ]
  },
  {
   "cell_type": "code",
   "execution_count": null,
   "metadata": {},
   "outputs": [],
   "source": [
    "#check whether the a number is minimum\n",
    "a=100\n",
    "b=293\n",
    "c=10239\n",
    "if a<b and a<c:\n",
    "    print a\n",
    "elif b<c and b<a:\n",
    "    print(b)\n",
    "else:\n",
    "    print(c)"
   ]
  },
  {
   "cell_type": "markdown",
   "metadata": {},
   "source": [
    "# CONTAINER\n"
   ]
  },
  {
   "cell_type": "markdown",
   "metadata": {},
   "source": [
    "### <font color=\"red\"> 1.__List__</font> :-  A list represents an ordered, mutable collection of objects. You can mix and match any type of object in a list, add to it and remove from it at will.\n",
    "\n",
    "Creating Empty Lists. To create an empty list, you can use empty square brackets or use the list() function with no arguments.\n",
    "\n",
    "l = []\n",
    "\n"
   ]
  },
  {
   "cell_type": "code",
   "execution_count": null,
   "metadata": {},
   "outputs": [],
   "source": [
    "#creating empty list\n",
    "l=[]\n",
    "type(l)"
   ]
  },
  {
   "cell_type": "code",
   "execution_count": null,
   "metadata": {},
   "outputs": [],
   "source": [
    "#Initializing Lists. \n",
    "#You can initialize a list with content of any sort using the same square bracket notation. \n",
    "#The list() function also takes an iterable as a single argument and returns a shallow copy of that iterable as a new list. \n",
    "a=list()\n",
    "type(a)\n",
    "a.insert(0,'a');\n",
    "a.append(1);\n",
    "print(a);\n",
    "#Iteration\n",
    "for i in a:\n",
    "    print(i)"
   ]
  },
  {
   "cell_type": "markdown",
   "metadata": {},
   "source": [
    "# Loops\n",
    "__In general, statements are executed sequentially: The first statement in a function is executed first, followed by the second, and so on. There may be a situation when you need to execute a block of code several number of times.\n",
    "Programming languages provide various control structures that allow for more complicated execution paths.__\n",
    "\n",
    "### For loop\n",
    "__The for loop in Python is used to iterate over a sequence (list, tuple, string) or other iterable objects. Iterating over a sequence is called traversal.\n",
    "Loop continues until we reach the last item in the sequence. The body of for loop is separated from the rest of the code using indentation.__\n",
    "\n"
   ]
  },
  {
   "cell_type": "code",
   "execution_count": null,
   "metadata": {},
   "outputs": [],
   "source": [
    "# Program to find the sum of all numbers stored in a list\n",
    "number = [1,3,890,'a',23,'q']\n",
    "sum = 0;\n",
    "for i in number:\n",
    "    #if(isinstance(i,str)==False):\n",
    "    if not isinstance(i,str):\n",
    "        sum+=i;\n",
    "print(sum)"
   ]
  },
  {
   "cell_type": "code",
   "execution_count": null,
   "metadata": {},
   "outputs": [],
   "source": [
    "#program to find the maximum number in for loop\n",
    "number = [23,495,3102,1020]\n",
    "max=0\n",
    "for i in number:\n",
    "    if i>max:\n",
    "        max=i\n",
    "    else:\n",
    "        continue\n",
    "print(\"Max number=\"+str(max))"
   ]
  },
  {
   "cell_type": "markdown",
   "metadata": {},
   "source": [
    "# For loop with else\n",
    "_A for loop can have an optional else block as well. The else part is executed if the items in the sequence used in for loop exhausts.Break statement can be used to stop a for loop. In such case, the else part is ignored.Hence, a for loop's else part runs if no break occurs._"
   ]
  },
  {
   "cell_type": "code",
   "execution_count": null,
   "metadata": {
    "scrolled": true
   },
   "outputs": [],
   "source": [
    "digits=list();\n",
    "#type(digits)\n",
    "digits.insert(0,2);\n",
    "digits.append(13);\n",
    "digits.append(55);\n",
    "for i in digits:\n",
    "    print(i)\n",
    "else:\n",
    "    print(\"DIGITS IS DIGITLESS\");"
   ]
  },
  {
   "cell_type": "code",
   "execution_count": null,
   "metadata": {},
   "outputs": [],
   "source": [
    "# Write a Python program to convert temperatures to and from celsius, fahrenheit. \n",
    "a=str(input(\"Enter C for celsius or F for fahrenheit\"))\n",
    "temperature=0;\n",
    "temp = float(input(\"Enter the temperature just THE NUMBER!\"))\n",
    "if(a == \"C\"):    \n",
    "    temperature = (9*(temp)/5)+32\n",
    "    print(str(temperature)+\"F\")\n",
    "else:http://localhost:8888/notebooks/Desktop/INTERNSOFT%20ML%20robotics/CODE%20FILES/Learning%20Python%20session%201(DAY%201).ipynb#\n",
    "    temperature = (5*(temperature-32)/9);\n",
    "    print(str(temperature)+\"C\")"
   ]
  },
  {
   "cell_type": "markdown",
   "metadata": {},
   "source": [
    "# While loop\n",
    "_The while loop in Python is used to iterate over a block of code as long as the test expression (condition) is true._\n",
    "\n",
    "_We generally use this loop when we don't know beforehand, the number of times to iterate._\n",
    "\n",
    "_In while loop, test expression is checked first. The body of the loop is entered only if the test expression evaluates to True. After one iteration, the test expression is checked again. This process continues until the test expression evaluates to False._\n",
    "\n",
    "_In Python, the body of the while loop is determined through indentation.Body starts with indentation and the first unindented line marks the end.Python interprets any non-zero value as True. None and 0 are interpreted as False._"
   ]
  },
  {
   "cell_type": "code",
   "execution_count": 1,
   "metadata": {},
   "outputs": [
    {
     "name": "stdout",
     "output_type": "stream",
     "text": [
      "Enter the nth number12\n",
      "78\n"
     ]
    }
   ],
   "source": [
    "# program to find sum of n natural number\n",
    "n= int(input(\"Enter the nth number\"));\n",
    "sum = 0;\n",
    "i =1;\n",
    "while i<=n:\n",
    "    sum+=i\n",
    "    i+=1\n",
    "    \n",
    "print(\"The sum is\",sum);"
   ]
  },
  {
   "cell_type": "markdown",
   "metadata": {},
   "source": [
    "# The range() function\n",
    "We can generate a sequence of numbers using range() function. range(10) will generate numbers from 0 to 9 (10 numbers).\n",
    "\n",
    "We can also define the start, stop and step size as range(start,stop,step size). step size defaults to 1 if not provided.\n",
    "\n",
    "This function does not store all the values in memory, it would be inefficient. So it remembers the start, stop, step size and generates the next number on the go.\n",
    "\n",
    "\n",
    "To force this function to output all the items, we can use the function list().\n",
    "\n",
    "The following example will clarify this"
   ]
  },
  {
   "cell_type": "code",
   "execution_count": 4,
   "metadata": {
    "scrolled": true
   },
   "outputs": [
    {
     "name": "stdout",
     "output_type": "stream",
     "text": [
      "[0, 1, 2, 3, 4, 5, 6, 7, 8, 9, 10, 11, 12, 13, 14, 15, 16, 17, 18, 19, 20, 21, 22, 23, 24, 25, 26, 27, 28, 29, 30, 31, 32, 33, 34, 35, 36, 37, 38, 39, 40, 41, 42, 43, 44, 45, 46, 47, 48, 49, 50, 51, 52, 53, 54, 55, 56, 57, 58, 59, 60, 61, 62, 63, 64, 65, 66, 67, 68, 69, 70, 71, 72, 73, 74, 75, 76, 77, 78, 79, 80, 81, 82, 83, 84, 85, 86, 87, 88, 89, 90, 91, 92, 93, 94, 95, 96, 97, 98, 99]\n"
     ]
    }
   ],
   "source": [
    "# generate a sequence of numbers using range() function. range(100) will generate numbers from 0 to 99 (100 numbers).\n",
    "#print(range(100))\n",
    "print(list(range(100)))"
   ]
  },
  {
   "cell_type": "code",
   "execution_count": 5,
   "metadata": {},
   "outputs": [
    {
     "name": "stdout",
     "output_type": "stream",
     "text": [
      "[3, 4, 5, 6, 7, 8]\n"
     ]
    }
   ],
   "source": [
    "# We can also define the start, stop and step size as range(start,stop,step size). step size defaults to 1 if not provided.\n",
    "#not providing the stepsize then the step size is 1\n",
    "print(range(3,9))"
   ]
  },
  {
   "cell_type": "code",
   "execution_count": 6,
   "metadata": {
    "scrolled": true
   },
   "outputs": [
    {
     "name": "stdout",
     "output_type": "stream",
     "text": [
      "[5, 10, 15, 20, 25, 30, 35, 40, 45, 50, 55, 60, 65, 70, 75, 80, 85, 90, 95]\n"
     ]
    }
   ],
   "source": [
    "#provide the step size\n",
    "print(range(5,100,5))"
   ]
  },
  {
   "cell_type": "code",
   "execution_count": 11,
   "metadata": {},
   "outputs": [
    {
     "name": "stdout",
     "output_type": "stream",
     "text": [
      "Music-pop\n",
      "Music-rock\n",
      "Music-jazz\n",
      "Music-country\n"
     ]
    }
   ],
   "source": [
    "#iterate through a list\n",
    "genre= [\"pop\",\"rock\",\"jazz\",\"country\"]\n",
    "for i in range(len(genre)):\n",
    "    print(\"Music-\"+(genre[i]))"
   ]
  },
  {
   "cell_type": "markdown",
   "metadata": {},
   "source": [
    "# break and continue statement\n",
    "In Python, break and continue statements can alter the flow of a normal loop.\n",
    "\n",
    "Loops iterate over a block of code until test expression is false, but sometimes we wish to terminate the current iteration or even the whole loop without cheking test expression.\n",
    "\n",
    "The break and continue statements are used in these cases.\n",
    "\n",
    "# break\n",
    "The break statement terminates the loop containing it. Control of the program flows to the statement immediately after the body of the loop.\n",
    "\n",
    "If break statement is inside a nested loop (loop inside another loop), break will terminate the innermost loop."
   ]
  },
  {
   "cell_type": "code",
   "execution_count": 12,
   "metadata": {},
   "outputs": [
    {
     "name": "stdout",
     "output_type": "stream",
     "text": [
      "t\n",
      "a\n",
      "k\n",
      "e\n",
      "The end\n"
     ]
    }
   ],
   "source": [
    "# Use of break statement inside loop\n",
    "\n",
    "for val in \"take me to land of dreams\":\n",
    "    if val == \" \":\n",
    "        break\n",
    "    print(val)\n",
    "\n",
    "print(\"The end\")"
   ]
  },
  {
   "cell_type": "markdown",
   "metadata": {},
   "source": [
    "# continue\n",
    "_The continue statement is used to skip the rest of the code inside a loop for the current iteration only. Loop does not terminate but continues on with the next iteration._"
   ]
  },
  {
   "cell_type": "code",
   "execution_count": 14,
   "metadata": {},
   "outputs": [
    {
     "name": "stdout",
     "output_type": "stream",
     "text": [
      "t\n",
      "a\n",
      "k\n",
      "e\n",
      "m\n",
      "e\n",
      "t\n",
      "o\n",
      "l\n",
      "a\n",
      "n\n",
      "d\n",
      "o\n",
      "f\n",
      "d\n",
      "r\n",
      "e\n",
      "a\n",
      "m\n",
      "s\n",
      "The end\n"
     ]
    }
   ],
   "source": [
    "for val in \"take me to land of dreams\":\n",
    "    if val == \" \":\n",
    "        continue\n",
    "    print(val)\n",
    "\n",
    "print(\"The end\")"
   ]
  },
  {
   "cell_type": "code",
   "execution_count": null,
   "metadata": {},
   "outputs": [],
   "source": []
  }
 ],
 "metadata": {
  "celltoolbar": "Edit Metadata",
  "kernelspec": {
   "display_name": "Python 2",
   "language": "python",
   "name": "python2"
  },
  "language_info": {
   "codemirror_mode": {
    "name": "ipython",
    "version": 2
   },
   "file_extension": ".py",
   "mimetype": "text/x-python",
   "name": "python",
   "nbconvert_exporter": "python",
   "pygments_lexer": "ipython2",
   "version": "2.7.16"
  }
 },
 "nbformat": 4,
 "nbformat_minor": 2
}
